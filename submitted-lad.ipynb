{
 "cells": [
  {
   "cell_type": "code",
   "execution_count": 1,
   "id": "64a026e0",
   "metadata": {
    "_cell_guid": "b1076dfc-b9ad-4769-8c92-a6c4dae69d19",
    "_uuid": "8f2839f25d086af736a60e9eeb907d3b93b6e0e5",
    "execution": {
     "iopub.execute_input": "2022-12-20T20:39:00.692175Z",
     "iopub.status.busy": "2022-12-20T20:39:00.691049Z",
     "iopub.status.idle": "2022-12-20T20:39:00.709136Z",
     "shell.execute_reply": "2022-12-20T20:39:00.707262Z"
    },
    "papermill": {
     "duration": 0.02947,
     "end_time": "2022-12-20T20:39:00.712287",
     "exception": false,
     "start_time": "2022-12-20T20:39:00.682817",
     "status": "completed"
    },
    "tags": []
   },
   "outputs": [
    {
     "name": "stdout",
     "output_type": "stream",
     "text": [
      "/kaggle/input/convolve-epoch1/sample_submission.csv\n",
      "/kaggle/input/convolve-epoch1/train.json\n",
      "/kaggle/input/convolve-epoch1/test.csv\n"
     ]
    }
   ],
   "source": [
    "# This Python 3 environment comes with many helpful analytics libraries installed\n",
    "# It is defined by the kaggle/python Docker image: https://github.com/kaggle/docker-python\n",
    "# For example, here's several helpful packages to load\n",
    "\n",
    "import numpy as np # linear algebra\n",
    "import pandas as pd # data processing, CSV file I/O (e.g. pd.read_csv)\n",
    "\n",
    "# Input data files are available in the read-only \"../input/\" directory\n",
    "# For example, running this (by clicking run or pressing Shift+Enter) will list all files under the input directory\n",
    "\n",
    "import os\n",
    "for dirname, _, filenames in os.walk('/kaggle/input'):\n",
    "    for filename in filenames:\n",
    "        print(os.path.join(dirname, filename))\n",
    "\n",
    "# You can write up to 20GB to the current directory (/kaggle/working/) that gets preserved as output when you create a version using \"Save & Run All\" \n",
    "# You can also write temporary files to /kaggle/temp/, but they won't be saved outside of the current session"
   ]
  },
  {
   "cell_type": "code",
   "execution_count": 2,
   "id": "ecad8229",
   "metadata": {
    "execution": {
     "iopub.execute_input": "2022-12-20T20:39:00.723788Z",
     "iopub.status.busy": "2022-12-20T20:39:00.722542Z",
     "iopub.status.idle": "2022-12-20T20:39:17.690586Z",
     "shell.execute_reply": "2022-12-20T20:39:17.689299Z"
    },
    "papermill": {
     "duration": 16.976667,
     "end_time": "2022-12-20T20:39:17.693562",
     "exception": false,
     "start_time": "2022-12-20T20:39:00.716895",
     "status": "completed"
    },
    "tags": []
   },
   "outputs": [],
   "source": [
    "import json\n",
    "with open(\"/kaggle/input/convolve-epoch1/train.json\",\"r\") as train_csv:\n",
    "    train_data=json.load(train_csv)\n",
    "X=[]\n",
    "y=[]\n",
    "for key in train_data:\n",
    "    X.append(key)\n",
    "    y.append(train_data[key])"
   ]
  },
  {
   "cell_type": "code",
   "execution_count": 3,
   "id": "3fe57657",
   "metadata": {
    "execution": {
     "iopub.execute_input": "2022-12-20T20:39:17.704511Z",
     "iopub.status.busy": "2022-12-20T20:39:17.704037Z",
     "iopub.status.idle": "2022-12-20T20:39:53.174850Z",
     "shell.execute_reply": "2022-12-20T20:39:53.173526Z"
    },
    "papermill": {
     "duration": 35.483723,
     "end_time": "2022-12-20T20:39:53.181842",
     "exception": false,
     "start_time": "2022-12-20T20:39:17.698119",
     "status": "completed"
    },
    "tags": []
   },
   "outputs": [
    {
     "data": {
      "text/html": [
       "<div>\n",
       "<style scoped>\n",
       "    .dataframe tbody tr th:only-of-type {\n",
       "        vertical-align: middle;\n",
       "    }\n",
       "\n",
       "    .dataframe tbody tr th {\n",
       "        vertical-align: top;\n",
       "    }\n",
       "\n",
       "    .dataframe thead th {\n",
       "        text-align: right;\n",
       "    }\n",
       "</style>\n",
       "<table border=\"1\" class=\"dataframe\">\n",
       "  <thead>\n",
       "    <tr style=\"text-align: right;\">\n",
       "      <th></th>\n",
       "      <th>ID1</th>\n",
       "      <th>Date</th>\n",
       "      <th>device_ID</th>\n",
       "      <th>DateTime</th>\n",
       "      <th>ID3</th>\n",
       "      <th>message</th>\n",
       "      <th>label</th>\n",
       "    </tr>\n",
       "  </thead>\n",
       "  <tbody>\n",
       "    <tr>\n",
       "      <th>0</th>\n",
       "      <td>1117838570</td>\n",
       "      <td>2005.06.03</td>\n",
       "      <td>R02-M1-N0-C:J12-U11</td>\n",
       "      <td>2005-06-03 15:42:50.363779</td>\n",
       "      <td>R02-M1-N0-C:J12-U11</td>\n",
       "      <td>RAS KERNEL INFO instruction cache parity error...</td>\n",
       "      <td>normal</td>\n",
       "    </tr>\n",
       "    <tr>\n",
       "      <th>1</th>\n",
       "      <td>1117838570</td>\n",
       "      <td>2005.06.03</td>\n",
       "      <td>R02-M1-N0-C:J12-U11</td>\n",
       "      <td>2005-06-03 15:42:50.527847</td>\n",
       "      <td>R02-M1-N0-C:J12-U11</td>\n",
       "      <td>RAS KERNEL INFO instruction cache parity error...</td>\n",
       "      <td>normal</td>\n",
       "    </tr>\n",
       "    <tr>\n",
       "      <th>2</th>\n",
       "      <td>1117838570</td>\n",
       "      <td>2005.06.03</td>\n",
       "      <td>R02-M1-N0-C:J12-U11</td>\n",
       "      <td>2005-06-03 15:42:50.675872</td>\n",
       "      <td>R02-M1-N0-C:J12-U11</td>\n",
       "      <td>RAS KERNEL INFO instruction cache parity error...</td>\n",
       "      <td>normal</td>\n",
       "    </tr>\n",
       "    <tr>\n",
       "      <th>3</th>\n",
       "      <td>1117838570</td>\n",
       "      <td>2005.06.03</td>\n",
       "      <td>R02-M1-N0-C:J12-U11</td>\n",
       "      <td>2005-06-03 15:42:50.823719</td>\n",
       "      <td>R02-M1-N0-C:J12-U11</td>\n",
       "      <td>RAS KERNEL INFO instruction cache parity error...</td>\n",
       "      <td>normal</td>\n",
       "    </tr>\n",
       "    <tr>\n",
       "      <th>4</th>\n",
       "      <td>1117838570</td>\n",
       "      <td>2005.06.03</td>\n",
       "      <td>R02-M1-N0-C:J12-U11</td>\n",
       "      <td>2005-06-03 15:42:50.982731</td>\n",
       "      <td>R02-M1-N0-C:J12-U11</td>\n",
       "      <td>RAS KERNEL INFO instruction cache parity error...</td>\n",
       "      <td>normal</td>\n",
       "    </tr>\n",
       "  </tbody>\n",
       "</table>\n",
       "</div>"
      ],
      "text/plain": [
       "          ID1        Date            device_ID                   DateTime  \\\n",
       "0  1117838570  2005.06.03  R02-M1-N0-C:J12-U11 2005-06-03 15:42:50.363779   \n",
       "1  1117838570  2005.06.03  R02-M1-N0-C:J12-U11 2005-06-03 15:42:50.527847   \n",
       "2  1117838570  2005.06.03  R02-M1-N0-C:J12-U11 2005-06-03 15:42:50.675872   \n",
       "3  1117838570  2005.06.03  R02-M1-N0-C:J12-U11 2005-06-03 15:42:50.823719   \n",
       "4  1117838570  2005.06.03  R02-M1-N0-C:J12-U11 2005-06-03 15:42:50.982731   \n",
       "\n",
       "                   ID3                                            message  \\\n",
       "0  R02-M1-N0-C:J12-U11  RAS KERNEL INFO instruction cache parity error...   \n",
       "1  R02-M1-N0-C:J12-U11  RAS KERNEL INFO instruction cache parity error...   \n",
       "2  R02-M1-N0-C:J12-U11  RAS KERNEL INFO instruction cache parity error...   \n",
       "3  R02-M1-N0-C:J12-U11  RAS KERNEL INFO instruction cache parity error...   \n",
       "4  R02-M1-N0-C:J12-U11  RAS KERNEL INFO instruction cache parity error...   \n",
       "\n",
       "    label  \n",
       "0  normal  \n",
       "1  normal  \n",
       "2  normal  \n",
       "3  normal  \n",
       "4  normal  "
      ]
     },
     "execution_count": 3,
     "metadata": {},
     "output_type": "execute_result"
    }
   ],
   "source": [
    "for i in range(len(X)):\n",
    "    X[i]=str(X[i]).strip().strip(\"\\n\").split(\" \",5)\n",
    "    \n",
    "df=pd.DataFrame(X,columns=[\"ID1\",\"Date\",\"device_ID\",\"DateTime\",\"ID3\",\"message\"])\n",
    "df[\"label\"]=y\n",
    "#convert to datetime format\n",
    "df[\"DateTime\"]=pd.to_datetime(df[\"DateTime\"],format=(\"%Y-%m-%d-%H.%M.%S.%f\"))\n",
    "df.head()"
   ]
  },
  {
   "cell_type": "code",
   "execution_count": 4,
   "id": "5a7b36b9",
   "metadata": {
    "execution": {
     "iopub.execute_input": "2022-12-20T20:39:53.193443Z",
     "iopub.status.busy": "2022-12-20T20:39:53.192967Z",
     "iopub.status.idle": "2022-12-20T20:39:57.319325Z",
     "shell.execute_reply": "2022-12-20T20:39:57.318200Z"
    },
    "papermill": {
     "duration": 4.135735,
     "end_time": "2022-12-20T20:39:57.322152",
     "exception": false,
     "start_time": "2022-12-20T20:39:53.186417",
     "status": "completed"
    },
    "tags": []
   },
   "outputs": [],
   "source": [
    "df = df[df[\"device_ID\"]!=\"-\"]"
   ]
  },
  {
   "cell_type": "code",
   "execution_count": 5,
   "id": "82b0eac6",
   "metadata": {
    "execution": {
     "iopub.execute_input": "2022-12-20T20:39:57.333505Z",
     "iopub.status.busy": "2022-12-20T20:39:57.332666Z",
     "iopub.status.idle": "2022-12-20T20:39:57.826047Z",
     "shell.execute_reply": "2022-12-20T20:39:57.824738Z"
    },
    "papermill": {
     "duration": 0.502357,
     "end_time": "2022-12-20T20:39:57.829061",
     "exception": false,
     "start_time": "2022-12-20T20:39:57.326704",
     "status": "completed"
    },
    "tags": []
   },
   "outputs": [],
   "source": [
    "df.drop([\"Date\",\"ID3\",\"ID1\",\"device_ID\",\"DateTime\"],axis=1,inplace=True)"
   ]
  },
  {
   "cell_type": "code",
   "execution_count": 6,
   "id": "356dffe7",
   "metadata": {
    "execution": {
     "iopub.execute_input": "2022-12-20T20:39:57.840079Z",
     "iopub.status.busy": "2022-12-20T20:39:57.839603Z",
     "iopub.status.idle": "2022-12-20T20:40:01.628005Z",
     "shell.execute_reply": "2022-12-20T20:40:01.626807Z"
    },
    "papermill": {
     "duration": 3.797479,
     "end_time": "2022-12-20T20:40:01.631079",
     "exception": false,
     "start_time": "2022-12-20T20:39:57.833600",
     "status": "completed"
    },
    "tags": []
   },
   "outputs": [],
   "source": [
    "import matplotlib.pyplot as plt\n",
    "import seaborn as sns\n",
    "\n",
    "plt.style.use('ggplot')\n",
    "import re\n",
    "import nltk\n",
    "from nltk.corpus import stopwords"
   ]
  },
  {
   "cell_type": "code",
   "execution_count": 7,
   "id": "3ea5923c",
   "metadata": {
    "execution": {
     "iopub.execute_input": "2022-12-20T20:40:01.642407Z",
     "iopub.status.busy": "2022-12-20T20:40:01.641941Z",
     "iopub.status.idle": "2022-12-20T20:40:01.657598Z",
     "shell.execute_reply": "2022-12-20T20:40:01.655890Z"
    },
    "papermill": {
     "duration": 0.024976,
     "end_time": "2022-12-20T20:40:01.660818",
     "exception": false,
     "start_time": "2022-12-20T20:40:01.635842",
     "status": "completed"
    },
    "tags": []
   },
   "outputs": [],
   "source": [
    "STOPWORDS=set(stopwords.words(\"english\"))\n",
    "def clean_text(text):\n",
    "    text=text.lower()\n",
    "    text=re.sub(r'[^a-zA-Z]', \" \", text)\n",
    "    text=re.sub(r'\\s+',\" \",text)\n",
    "    text=\" \".join(word for word in text.split() if word not in STOPWORDS)\n",
    "    return text"
   ]
  },
  {
   "cell_type": "code",
   "execution_count": 8,
   "id": "a8f15462",
   "metadata": {
    "execution": {
     "iopub.execute_input": "2022-12-20T20:40:01.672785Z",
     "iopub.status.busy": "2022-12-20T20:40:01.671575Z",
     "iopub.status.idle": "2022-12-20T20:40:47.510347Z",
     "shell.execute_reply": "2022-12-20T20:40:47.508297Z"
    },
    "papermill": {
     "duration": 45.849147,
     "end_time": "2022-12-20T20:40:47.514596",
     "exception": false,
     "start_time": "2022-12-20T20:40:01.665449",
     "status": "completed"
    },
    "tags": []
   },
   "outputs": [],
   "source": [
    "df[\"clean_text\"]=df[\"message\"].apply(clean_text)\n",
    "X=df[\"clean_text\"]\n",
    "y=df[\"label\"]"
   ]
  },
  {
   "cell_type": "code",
   "execution_count": 9,
   "id": "bc52042c",
   "metadata": {
    "execution": {
     "iopub.execute_input": "2022-12-20T20:40:47.526706Z",
     "iopub.status.busy": "2022-12-20T20:40:47.526226Z",
     "iopub.status.idle": "2022-12-20T20:40:47.534747Z",
     "shell.execute_reply": "2022-12-20T20:40:47.533444Z"
    },
    "papermill": {
     "duration": 0.018145,
     "end_time": "2022-12-20T20:40:47.538024",
     "exception": false,
     "start_time": "2022-12-20T20:40:47.519879",
     "status": "completed"
    },
    "tags": []
   },
   "outputs": [],
   "source": [
    "from sklearn.pipeline import Pipeline\n",
    "from sklearn.model_selection import train_test_split, cross_val_score\n",
    "from sklearn.metrics import classification_report\n",
    "from sklearn.feature_extraction.text import CountVectorizer, TfidfVectorizer, TfidfTransformer\n",
    "\n",
    "#X_train, X_test, y_train, y_test = train_test_split(X, y, test_size=0.25, random_state=0, shuffle=True, stratify=y)"
   ]
  },
  {
   "cell_type": "code",
   "execution_count": 10,
   "id": "e9d7cb5c",
   "metadata": {
    "execution": {
     "iopub.execute_input": "2022-12-20T20:40:47.550382Z",
     "iopub.status.busy": "2022-12-20T20:40:47.549737Z",
     "iopub.status.idle": "2022-12-20T20:44:55.324056Z",
     "shell.execute_reply": "2022-12-20T20:44:55.322632Z"
    },
    "papermill": {
     "duration": 247.783737,
     "end_time": "2022-12-20T20:44:55.327159",
     "exception": false,
     "start_time": "2022-12-20T20:40:47.543422",
     "status": "completed"
    },
    "tags": []
   },
   "outputs": [
    {
     "name": "stdout",
     "output_type": "stream",
     "text": [
      "Accuracy: 99.99985550427563\n"
     ]
    }
   ],
   "source": [
    "X_train, X_test, y_train, y_test = train_test_split(X, y, test_size=0.5, random_state=50, shuffle=True, stratify=y)\n",
    "# model training\n",
    "\n",
    "from sklearn.svm import SVC\n",
    "model = SVC(C=5)\n",
    "\n",
    "pip_model = Pipeline([('vect', CountVectorizer()),\n",
    "                              ('tfidf', TfidfTransformer()),\n",
    "                              ('clf', model)])\n",
    "pip_model.fit(X_train, y_train)\n",
    "    \n",
    "print('Accuracy:', pip_model.score(X_test, y_test)*100)\n",
    "\n",
    "\n",
    "#print(\"CV Score:\", np.mean(cv_score)*100)\n",
    "y_pred = pip_model.predict(X_test)"
   ]
  },
  {
   "cell_type": "code",
   "execution_count": 11,
   "id": "7970dba1",
   "metadata": {
    "execution": {
     "iopub.execute_input": "2022-12-20T20:44:55.341766Z",
     "iopub.status.busy": "2022-12-20T20:44:55.340550Z",
     "iopub.status.idle": "2022-12-20T20:44:57.458272Z",
     "shell.execute_reply": "2022-12-20T20:44:57.456981Z"
    },
    "papermill": {
     "duration": 2.129329,
     "end_time": "2022-12-20T20:44:57.461493",
     "exception": false,
     "start_time": "2022-12-20T20:44:55.332164",
     "status": "completed"
    },
    "tags": []
   },
   "outputs": [],
   "source": [
    "df_submission=pd.read_csv(\"/kaggle/input/convolve-epoch1/test.csv\")"
   ]
  },
  {
   "cell_type": "code",
   "execution_count": 12,
   "id": "71b2846d",
   "metadata": {
    "execution": {
     "iopub.execute_input": "2022-12-20T20:44:57.474201Z",
     "iopub.status.busy": "2022-12-20T20:44:57.472986Z",
     "iopub.status.idle": "2022-12-20T20:45:29.961383Z",
     "shell.execute_reply": "2022-12-20T20:45:29.960255Z"
    },
    "papermill": {
     "duration": 32.497781,
     "end_time": "2022-12-20T20:45:29.964422",
     "exception": false,
     "start_time": "2022-12-20T20:44:57.466641",
     "status": "completed"
    },
    "tags": []
   },
   "outputs": [],
   "source": [
    "df_submission[\"clean_text\"]=df_submission[\" Log\"].apply(clean_text)\n",
    "y_sub = pip_model.predict(df_submission[\"clean_text\"])\n",
    "df_sub=pd.read_csv(\"/kaggle/input/convolve-epoch1/sample_submission.csv\")\n",
    "df_sub[\" Label\"]=y_sub"
   ]
  },
  {
   "cell_type": "code",
   "execution_count": 13,
   "id": "1362ae50",
   "metadata": {
    "execution": {
     "iopub.execute_input": "2022-12-20T20:45:29.976378Z",
     "iopub.status.busy": "2022-12-20T20:45:29.975907Z",
     "iopub.status.idle": "2022-12-20T20:45:30.651004Z",
     "shell.execute_reply": "2022-12-20T20:45:30.649590Z"
    },
    "papermill": {
     "duration": 0.684909,
     "end_time": "2022-12-20T20:45:30.654123",
     "exception": false,
     "start_time": "2022-12-20T20:45:29.969214",
     "status": "completed"
    },
    "tags": []
   },
   "outputs": [],
   "source": [
    "df_sub.to_csv(\"submission.csv\", index=False)"
   ]
  }
 ],
 "metadata": {
  "kernelspec": {
   "display_name": "Python 3",
   "language": "python",
   "name": "python3"
  },
  "language_info": {
   "codemirror_mode": {
    "name": "ipython",
    "version": 3
   },
   "file_extension": ".py",
   "mimetype": "text/x-python",
   "name": "python",
   "nbconvert_exporter": "python",
   "pygments_lexer": "ipython3",
   "version": "3.7.12"
  },
  "papermill": {
   "default_parameters": {},
   "duration": 403.458402,
   "end_time": "2022-12-20T20:45:33.283736",
   "environment_variables": {},
   "exception": null,
   "input_path": "__notebook__.ipynb",
   "output_path": "__notebook__.ipynb",
   "parameters": {},
   "start_time": "2022-12-20T20:38:49.825334",
   "version": "2.3.4"
  }
 },
 "nbformat": 4,
 "nbformat_minor": 5
}
